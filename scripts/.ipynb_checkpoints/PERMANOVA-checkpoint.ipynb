{
 "cells": [
  {
   "cell_type": "code",
   "execution_count": 1,
   "metadata": {},
   "outputs": [],
   "source": [
    "import pandas as pd\n",
    "import numpy as np\n",
    "from skbio.stats.distance import permanova\n",
    "from skbio import DistanceMatrix"
   ]
  },
  {
   "cell_type": "code",
   "execution_count": 2,
   "metadata": {},
   "outputs": [],
   "source": [
    "df = pd.read_csv(\"../data/Tree_Files/Prophage_Metadata_Phaster.csv\")"
   ]
  },
  {
   "cell_type": "markdown",
   "metadata": {},
   "source": [
    "## MMAS"
   ]
  },
  {
   "cell_type": "code",
   "execution_count": 3,
   "metadata": {},
   "outputs": [
    {
     "data": {
      "text/plain": [
       "method name               PERMANOVA\n",
       "test statistic name        pseudo-F\n",
       "sample size                      25\n",
       "number of groups                  2\n",
       "test statistic              1.13156\n",
       "p-value                       0.303\n",
       "number of permutations          999\n",
       "Name: PERMANOVA results, dtype: object"
      ]
     },
     "execution_count": 3,
     "metadata": {},
     "output_type": "execute_result"
    }
   ],
   "source": [
    "df2 = pd.read_csv(\"../data/Tree_Files/Distance_Matricies/MMAS_Output.csv\", index_col=0)\n",
    "df3 = df[df['ID'].isin(df2.columns)]\n",
    "\n",
    "df3 = df3.drop_duplicates(subset=\"ID\", keep=\"first\")\n",
    "\n",
    "## Convert DF2 to Distance Matrix\n",
    "Controls = ['CCUG48898.MMAS', \"ATCC19977.MAB\", \"BD.MBOL\"]\n",
    "\n",
    "df2 = df2.drop(df2[Controls], axis=1)\n",
    "df2 = df2.drop(Controls, axis=0)\n",
    "\n",
    "\n",
    "hello = DistanceMatrix(df2)\n",
    "\n",
    "dfTest = pd.merge(df2, df3, left_index=True, right_on='ID')\n",
    "dfTest = dfTest.set_index(\"ID\")\n",
    "\n",
    "## Keep Only IDs in \n",
    "x = permanova(distance_matrix=hello, grouping=dfTest['Group'])\n",
    "x"
   ]
  },
  {
   "cell_type": "markdown",
   "metadata": {},
   "source": [
    "## MAB"
   ]
  },
  {
   "cell_type": "code",
   "execution_count": 4,
   "metadata": {},
   "outputs": [
    {
     "data": {
      "text/plain": [
       "method name               PERMANOVA\n",
       "test statistic name        pseudo-F\n",
       "sample size                      76\n",
       "number of groups                  2\n",
       "test statistic              2.17188\n",
       "p-value                       0.022\n",
       "number of permutations          999\n",
       "Name: PERMANOVA results, dtype: object"
      ]
     },
     "execution_count": 4,
     "metadata": {},
     "output_type": "execute_result"
    }
   ],
   "source": [
    "df2 = pd.read_csv(\"../data/Tree_Files/Distance_Matricies/MAB_MBOL_Output.csv\", index_col=0)\n",
    "df3 = df[df['ID'].isin(df2.columns)]\n",
    "\n",
    "df3 = df3.drop_duplicates(subset=\"ID\", keep=\"first\")\n",
    "\n",
    "## Convert DF2 to Distance Matrix\n",
    "Controls = ['CCUG48898.MMAS', \"ATCC19977.MAB\", \"BD.MBOL\", \"CF00765-00647.MBOL\", \"CF00773-00659.MBOL\", \n",
    "           \"CF00020-00045.MBOL\", \"CF00113-00117.MBOL\", \"UNC673.MAB\", \"WRCM9.MAB\", \"CF00786-00686.MAB\"]\n",
    "\n",
    "df2 = df2.drop(df2[Controls], axis=1)\n",
    "df2 = df2.drop(Controls, axis=0)\n",
    "hello = DistanceMatrix(df2)\n",
    "\n",
    "dfTest = pd.merge(df2, df3, left_index=True, right_on='ID')\n",
    "dfTest.set_index(\"ID\")\n",
    "\n",
    "## Keep Only IDs in \n",
    "x = permanova(distance_matrix=hello, grouping=dfTest['Group'])\n",
    "x"
   ]
  },
  {
   "cell_type": "code",
   "execution_count": 5,
   "metadata": {},
   "outputs": [
    {
     "data": {
      "text/plain": [
       "(0.0, 76.0, 76.0, 0.0)"
      ]
     },
     "execution_count": 5,
     "metadata": {},
     "output_type": "execute_result"
    },
    {
     "data": {
      "image/png": "[encoded data removed]",
      "text/plain": [
       "<Figure size 432x288 with 2 Axes>"
      ]
     },
     "metadata": {
      "needs_background": "light"
     },
     "output_type": "display_data"
    }
   ],
   "source": [
    "from matplotlib import pyplot as plt\n",
    "fig = hello.plot(cmap=None, title='Similarity Matrix of Log-SNP Distances')\n",
    "plt.axis('off')\n",
    "#fig.savefig(\"../Figures/Supplementary/MABDistanceFigure.png\", transparent=True, bbox_inches='tight', dpi=350)"
   ]
  },
  {
   "cell_type": "markdown",
   "metadata": {},
   "source": [
    "## MCHIM"
   ]
  },
  {
   "cell_type": "code",
   "execution_count": 6,
   "metadata": {},
   "outputs": [
    {
     "data": {
      "text/plain": [
       "method name               PERMANOVA\n",
       "test statistic name        pseudo-F\n",
       "sample size                      33\n",
       "number of groups                  2\n",
       "test statistic              1.12004\n",
       "p-value                        0.33\n",
       "number of permutations          999\n",
       "Name: PERMANOVA results, dtype: object"
      ]
     },
     "execution_count": 6,
     "metadata": {},
     "output_type": "execute_result"
    }
   ],
   "source": [
    "df2 = pd.read_csv(\"../data/Tree_Files/Distance_Matricies/MCHIM_Output.csv\", index_col=0)\n",
    "df3 = df[df['ID'].isin(df2.columns)]\n",
    "\n",
    "df3 = df3.drop_duplicates(subset=\"ID\", keep=\"first\")\n",
    "\n",
    "## Convert DF2 to Distance Matrix\n",
    "Controls = ['05-1390.MYONG','ATCC13950.MINT','DSM44623.MCHIM','MOTT-64.MINT','MYC24.MINT']\n",
    "\n",
    "df2 = df2.drop(df2[Controls], axis=1)\n",
    "df2 = df2.drop(Controls, axis=0)\n",
    "hello = DistanceMatrix(df2)\n",
    "\n",
    "dfTest = pd.merge(df2, df3, left_index=True, right_on='ID')\n",
    "dfTest.set_index(\"ID\")\n",
    "\n",
    "\n",
    "## Keep Only IDs in \n",
    "x = permanova(distance_matrix=hello, grouping=dfTest['Group'])\n",
    "x"
   ]
  },
  {
   "cell_type": "markdown",
   "metadata": {},
   "source": [
    "## End of PERMANOVA Testing"
   ]
  }
 ],
 "metadata": {
  "kernelspec": {
   "display_name": "Python 2",
   "language": "python",
   "name": "python2"
  },
  "language_info": {
   "codemirror_mode": {
    "name": "ipython",
    "version": 2
   },
   "file_extension": ".py",
   "mimetype": "text/x-python",
   "name": "python",
   "nbconvert_exporter": "python",
   "pygments_lexer": "ipython2",
   "version": "2.7.15"
  },
  "toc": {
   "base_numbering": 1,
   "nav_menu": {},
   "number_sections": true,
   "sideBar": true,
   "skip_h1_title": false,
   "title_cell": "Table of Contents",
   "title_sidebar": "Contents",
   "toc_cell": false,
   "toc_position": {},
   "toc_section_display": true,
   "toc_window_display": false
  }
 },
 "nbformat": 4,
 "nbformat_minor": 2
}
